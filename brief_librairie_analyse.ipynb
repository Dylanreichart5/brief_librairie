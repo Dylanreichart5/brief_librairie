{
 "cells": [
  {
   "cell_type": "markdown",
   "id": "7bceec2d",
   "metadata": {},
   "source": [
    "Import libraries"
   ]
  },
  {
   "cell_type": "code",
   "execution_count": 1,
   "id": "066a5851",
   "metadata": {},
   "outputs": [],
   "source": [
    "import pandas as pd"
   ]
  },
  {
   "cell_type": "markdown",
   "id": "784662ab",
   "metadata": {},
   "source": [
    "import clean csv in dataframes"
   ]
  },
  {
   "cell_type": "code",
   "execution_count": 2,
   "id": "414a374e",
   "metadata": {},
   "outputs": [],
   "source": [
    "df_ventes = pd.read_csv(r\"C:\\Users\\utilisateur\\Documents\\Projets\\brief_librairie\\ventes_clean.csv\")\n",
    "df_produits = pd.read_csv(r\"C:\\Users\\utilisateur\\Documents\\Projets\\brief_librairie\\produits_clean.csv\")\n",
    "df_clients = pd.read_csv(r\"C:\\Users\\utilisateur\\Documents\\Projets\\brief_librairie\\clients_clean.csv\")"
   ]
  },
  {
   "cell_type": "code",
   "execution_count": 4,
   "id": "ebbcd227",
   "metadata": {},
   "outputs": [
    {
     "name": "stderr",
     "output_type": "stream",
     "text": [
      "C:\\Users\\utilisateur\\AppData\\Local\\Temp\\ipykernel_11872\\3273547027.py:1: FutureWarning: Dropping of nuisance columns in DataFrame reductions (with 'numeric_only=None') is deprecated; in a future version this will raise TypeError.  Select only valid columns before calling the reduction.\n",
      "  df_ventes.std()\n"
     ]
    },
    {
     "data": {
      "text/plain": [
       "Unnamed: 0    97289.781589\n",
       "dtype: float64"
      ]
     },
     "execution_count": 4,
     "metadata": {},
     "output_type": "execute_result"
    }
   ],
   "source": [
    "df_ventes.std()"
   ]
  },
  {
   "cell_type": "code",
   "execution_count": null,
   "id": "a40b79ad",
   "metadata": {},
   "outputs": [],
   "source": []
  }
 ],
 "metadata": {
  "kernelspec": {
   "display_name": "Python 3 (ipykernel)",
   "language": "python",
   "name": "python3"
  },
  "language_info": {
   "codemirror_mode": {
    "name": "ipython",
    "version": 3
   },
   "file_extension": ".py",
   "mimetype": "text/x-python",
   "name": "python",
   "nbconvert_exporter": "python",
   "pygments_lexer": "ipython3",
   "version": "3.9.12"
  }
 },
 "nbformat": 4,
 "nbformat_minor": 5
}
