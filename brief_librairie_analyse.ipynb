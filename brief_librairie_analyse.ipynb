{
 "cells": [
  {
   "cell_type": "markdown",
   "id": "de66d866",
   "metadata": {},
   "source": [
    "Import libraries"
   ]
  },
  {
   "cell_type": "code",
   "execution_count": 1,
   "id": "ff498d2c",
   "metadata": {},
   "outputs": [],
   "source": [
    "import pandas as pd"
   ]
  },
  {
   "cell_type": "markdown",
   "id": "e30b93cb",
   "metadata": {},
   "source": [
    "import clean csv in dataframes"
   ]
  },
  {
   "cell_type": "code",
   "execution_count": 2,
   "id": "c59ea1cd",
   "metadata": {},
   "outputs": [],
   "source": [
    "df_ventes = pd.read_csv(r\"C:\\Users\\utilisateur\\Documents\\Projets\\brief_librairie\\ventes_clean.csv\")\n",
    "df_produits = pd.read_csv(r\"C:\\Users\\utilisateur\\Documents\\Projets\\brief_librairie\\produits_clean.csv\")\n",
    "df_clients = pd.read_csv(r\"C:\\Users\\utilisateur\\Documents\\Projets\\brief_librairie\\clients_clean.csv\")"
   ]
  },
  {
   "cell_type": "markdown",
   "id": "9970d730",
   "metadata": {},
   "source": [
    "median and moy of price"
   ]
  },
  {
   "cell_type": "code",
   "execution_count": 11,
   "id": "730ea7b4",
   "metadata": {},
   "outputs": [
    {
     "data": {
      "text/plain": [
       "13.075"
      ]
     },
     "execution_count": 11,
     "metadata": {},
     "output_type": "execute_result"
    }
   ],
   "source": [
    "df_produits[\"price\"].median()"
   ]
  },
  {
   "cell_type": "markdown",
   "id": "dbfc1805",
   "metadata": {},
   "source": [
    "the median of price is 13.07$"
   ]
  },
  {
   "cell_type": "code",
   "execution_count": 10,
   "id": "071bf11e",
   "metadata": {},
   "outputs": [
    {
     "data": {
      "text/plain": [
       "21.863597078514857"
      ]
     },
     "execution_count": 10,
     "metadata": {},
     "output_type": "execute_result"
    }
   ],
   "source": [
    "df_produits[\"price\"].mean()"
   ]
  },
  {
   "cell_type": "markdown",
   "id": "89adbeed",
   "metadata": {},
   "source": [
    "the mean of price is 21.86$"
   ]
  },
  {
   "cell_type": "markdown",
   "id": "b24f3cca",
   "metadata": {},
   "source": [
    "standard deviation of price"
   ]
  },
  {
   "cell_type": "code",
   "execution_count": 12,
   "id": "3f20b202",
   "metadata": {},
   "outputs": [
    {
     "data": {
      "text/plain": [
       "29.84978562743482"
      ]
     },
     "execution_count": 12,
     "metadata": {},
     "output_type": "execute_result"
    }
   ],
   "source": [
    "df_produits[\"price\"].std()"
   ]
  },
  {
   "cell_type": "code",
   "execution_count": null,
   "id": "82d443f6",
   "metadata": {},
   "outputs": [],
   "source": []
  }
 ],
 "metadata": {
  "kernelspec": {
   "display_name": "Python 3 (ipykernel)",
   "language": "python",
   "name": "python3"
  },
  "language_info": {
   "codemirror_mode": {
    "name": "ipython",
    "version": 3
   },
   "file_extension": ".py",
   "mimetype": "text/x-python",
   "name": "python",
   "nbconvert_exporter": "python",
   "pygments_lexer": "ipython3",
   "version": "3.9.12"
  }
 },
 "nbformat": 4,
 "nbformat_minor": 5
}
