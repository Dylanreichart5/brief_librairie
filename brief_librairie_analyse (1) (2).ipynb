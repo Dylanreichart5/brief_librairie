{
 "cells": [
  {
   "cell_type": "markdown",
   "id": "de66d866",
   "metadata": {},
   "source": [
    "Import libraries"
   ]
  },
  {
   "cell_type": "code",
   "execution_count": null,
   "id": "ff498d2c",
   "metadata": {},
   "outputs": [],
   "source": [
    "import numpy as np\n",
    "import pandas as pd\n",
    "import matplotlib.pyplot as plt\n",
    "import seaborn as sns\n",
    "import sklearn as sk\n",
    "from sklearn import ensemble\n",
    "from datetime import datetime\n",
    "import scipy.stats as stats\n",
    "import altair as alt\n",
    "from vega_datasets import data"
   ]
  },
  {
   "cell_type": "markdown",
   "id": "e30b93cb",
   "metadata": {},
   "source": [
    "import clean csv in dataframes"
   ]
  },
  {
   "cell_type": "code",
   "execution_count": null,
   "id": "c59ea1cd",
   "metadata": {},
   "outputs": [],
   "source": [
    "df_ventes = pd.read_csv(r\"C:\\Users\\utilisateur\\Documents\\Projets\\brief_librairie\\ventes.csv\")\n",
    "df_produits = pd.read_csv(r\"C:\\Users\\utilisateur\\Documents\\Projets\\brief_librairie\\produits.csv\")\n",
    "df_clients = pd.read_csv(r\"C:\\Users\\utilisateur\\Documents\\Projets\\brief_librairie\\clients.csv\")"
   ]
  },
  {
   "cell_type": "markdown",
   "id": "9970d730",
   "metadata": {},
   "source": [
    "Create a unique dataframe"
   ]
  },
  {
   "cell_type": "code",
   "execution_count": null,
   "id": "730ea7b4",
   "metadata": {},
   "outputs": [],
   "source": [
    "df_all = df_ventes.merge(df_clients, how='left', on='client_id').merge(df_produits, how='left', on='id_prod')\n",
    "df_all"
   ]
  },
  {
   "cell_type": "markdown",
   "id": "dbfc1805",
   "metadata": {},
   "source": [
    "let's print the infos number of price"
   ]
  },
  {
   "cell_type": "code",
   "execution_count": null,
   "id": "071bf11e",
   "metadata": {},
   "outputs": [],
   "source": [
    "df_all[\"price\"].describe(include='all')"
   ]
  },
  {
   "cell_type": "markdown",
   "id": "c6d3ce3c",
   "metadata": {},
   "source": [
    "print where the price is equal to -1"
   ]
  },
  {
   "cell_type": "code",
   "execution_count": null,
   "id": "5c492bce",
   "metadata": {},
   "outputs": [],
   "source": [
    "df_all.loc[df_all['price'] == -1]"
   ]
  },
  {
   "cell_type": "markdown",
   "id": "f179cd2b",
   "metadata": {},
   "source": [
    "We see that this datas are test data so we chose to delete them"
   ]
  },
  {
   "cell_type": "code",
   "execution_count": null,
   "id": "f085c5e6",
   "metadata": {},
   "outputs": [],
   "source": [
    "df_all = df_all[df_all.price != -1]\n",
    "df_all"
   ]
  },
  {
   "cell_type": "markdown",
   "id": "d0317e8e",
   "metadata": {},
   "source": [
    "we have now 336816 columns cause we droped the 200 where the price was 1"
   ]
  },
  {
   "cell_type": "markdown",
   "id": "639959d3",
   "metadata": {},
   "source": [
    "let's check if the date of birth is legit"
   ]
  },
  {
   "cell_type": "code",
   "execution_count": null,
   "id": "d49a2463",
   "metadata": {},
   "outputs": [],
   "source": [
    "df_all[\"birth\"].describe(include='all')"
   ]
  },
  {
   "cell_type": "markdown",
   "id": "5e1d5119",
   "metadata": {},
   "source": [
    "we got a min at 1929 and a max at 2004 so the data seems legit"
   ]
  },
  {
   "cell_type": "markdown",
   "id": "07ecae99",
   "metadata": {},
   "source": [
    "let's create a new columns to print the total of purchase by client id"
   ]
  },
  {
   "cell_type": "code",
   "execution_count": null,
   "id": "fec46407",
   "metadata": {},
   "outputs": [],
   "source": [
    "df_all = df_all.merge(\n",
    "    df_all.pivot_table(\n",
    "    index='client_id', values='price', \n",
    "    aggfunc='sum').reset_index().rename(\n",
    "    columns={'price': 'total_achats'}),\n",
    "    on='client_id', how='left')"
   ]
  },
  {
   "cell_type": "markdown",
   "id": "c8da0021",
   "metadata": {},
   "source": [
    "let's see the 10 biggest clients"
   ]
  },
  {
   "cell_type": "code",
   "execution_count": null,
   "id": "121864cf",
   "metadata": {},
   "outputs": [],
   "source": [
    "df_10_clients = df_all.drop_duplicates(subset =[\"client_id\"])\n",
    "df_top_10 = df_10_clients.nlargest(10,\"total_achats\")\n",
    "df_top_10"
   ]
  },
  {
   "cell_type": "markdown",
   "id": "02ae3fe7",
   "metadata": {},
   "source": [
    "We can see a huge difference between the top 4 clients and the rest of the top 10 clients"
   ]
  },
  {
   "cell_type": "code",
   "execution_count": null,
   "id": "29492bc2",
   "metadata": {},
   "outputs": [],
   "source": [
    "df_drop_client = df_all.drop_duplicates(subset=['client_id'])"
   ]
  },
  {
   "cell_type": "markdown",
   "id": "f0db60c5",
   "metadata": {},
   "source": [
    "calcul of the total revenue"
   ]
  },
  {
   "cell_type": "code",
   "execution_count": null,
   "id": "0f931652",
   "metadata": {},
   "outputs": [],
   "source": [
    "df_drop_client['total_achats'].sum()"
   ]
  },
  {
   "cell_type": "markdown",
   "id": "2e7304bd",
   "metadata": {},
   "source": [
    "The total revenue is 5,79 Millions"
   ]
  },
  {
   "cell_type": "markdown",
   "id": "f24ff295",
   "metadata": {},
   "source": [
    "Calcul of the total revenue of the 4 biggest clients"
   ]
  },
  {
   "cell_type": "code",
   "execution_count": null,
   "id": "5d963ce3",
   "metadata": {},
   "outputs": [],
   "source": [
    "liste_top_10 = df_top_10[\"total_achats\"].iloc[0:4]\n",
    "liste_top_10.sum()"
   ]
  },
  {
   "cell_type": "markdown",
   "id": "93d4ce78",
   "metadata": {},
   "source": [
    "The total revenue of the 4 biggest clients is 433 000"
   ]
  },
  {
   "cell_type": "markdown",
   "id": "d96f8a0f",
   "metadata": {},
   "source": [
    "Calcul of the pourcentage the 4 biggest clients represents"
   ]
  },
  {
   "cell_type": "code",
   "execution_count": null,
   "id": "a9734ae3",
   "metadata": {},
   "outputs": [],
   "source": [
    "(df_drop_client['total_achats'].sum())/(liste_top_10.sum())"
   ]
  },
  {
   "cell_type": "markdown",
   "id": "a8bee145",
   "metadata": {},
   "source": [
    "The 4 biggest clients represents 13,3% of the total revenue"
   ]
  },
  {
   "cell_type": "markdown",
   "id": "39f55e38",
   "metadata": {},
   "source": [
    "check the correlation of sex and category\n",
    "to see this we need to transform the sex to a numerical value\n",
    "0 for male 1 for female"
   ]
  },
  {
   "cell_type": "code",
   "execution_count": null,
   "id": "f499bb63",
   "metadata": {},
   "outputs": [],
   "source": [
    "def clean(x):\n",
    "    x = x.replace(\"f\", \"1\").replace(\"m\", \"0\")\n",
    "    return (x)\n",
    "\n",
    "df_all['sex'] = df_all['sex'].apply(clean)\n",
    "\n"
   ]
  },
  {
   "cell_type": "code",
   "execution_count": null,
   "id": "64bf36ae",
   "metadata": {},
   "outputs": [],
   "source": []
  },
  {
   "cell_type": "markdown",
   "id": "f934e86d",
   "metadata": {},
   "source": [
    "now let's check the correlation bewtween sex and category"
   ]
  },
  {
   "cell_type": "code",
   "execution_count": null,
   "id": "efe14aaa",
   "metadata": {},
   "outputs": [],
   "source": [
    "\n",
    "df_sex_categ = df_all.groupby(by=[\"sex\",\"categ\"]).count().reset_index()\n",
    "df_sex_categ"
   ]
  },
  {
   "cell_type": "markdown",
   "id": "dd060906",
   "metadata": {},
   "source": [
    "We can say that the categorie and the sex are not correlate"
   ]
  },
  {
   "cell_type": "markdown",
   "id": "7be1f016",
   "metadata": {},
   "source": [
    "Let's see if the category depend of the price with a boxplot"
   ]
  },
  {
   "cell_type": "code",
   "execution_count": null,
   "id": "6e8bf18e",
   "metadata": {},
   "outputs": [],
   "source": [
    "boxplot = df_all.boxplot(column=['price'], by=[\"categ\"])"
   ]
  },
  {
   "cell_type": "markdown",
   "id": "ca0db577",
   "metadata": {},
   "source": [
    "with this boxplot we can see that the category is influenced by the price like this :\n",
    "price less that 50 category 0\n",
    "price less than 100 category 1 \n",
    "price more than 100 category 2\n",
    "\n",
    "with this value we can confirm there is no correletion between the sex and the category\n",
    "in fact the sex got no incidence with the value of an object"
   ]
  },
  {
   "cell_type": "code",
   "execution_count": null,
   "id": "9777f532",
   "metadata": {},
   "outputs": [],
   "source": [
    "dep = df_all.price\n",
    "n = len(dep)\n",
    "lorenz = np.cumsum(np.sort(dep)) / dep.sum()\n",
    "lorenz = np.append([0],lorenz)\n",
    "\n",
    "xaxis = np.linspace(0-1/n,1+1/n,n+1)\n",
    "plt.plot([0,1], [0,1], color='k')\n",
    "plt.plot(xaxis,lorenz)\n",
    "plt.title(\"Courbe de lorenz des prix\")\n",
    "plt.show()"
   ]
  },
  {
   "cell_type": "code",
   "execution_count": null,
   "id": "e3b2d614",
   "metadata": {},
   "outputs": [],
   "source": []
  },
  {
   "cell_type": "markdown",
   "id": "23d13a64",
   "metadata": {},
   "source": [
    "transform the birth date into ages"
   ]
  },
  {
   "cell_type": "code",
   "execution_count": null,
   "id": "42df8661",
   "metadata": {},
   "outputs": [],
   "source": [
    "def age(x):\n",
    "    x = 2022-x\n",
    "    return x\n",
    "df_all = df_all.rename(columns={\"birth\": \"age\"})\n",
    "df_all['age'] = df_all['age'].apply(age)\n",
    "df_all = df_all.rename(columns={\"birth\": \"age\"})\n",
    "df_all"
   ]
  },
  {
   "cell_type": "markdown",
   "id": "85ae550d",
   "metadata": {},
   "source": [
    "Create new column with date with the format Y"
   ]
  },
  {
   "cell_type": "code",
   "execution_count": null,
   "id": "2dd94246",
   "metadata": {},
   "outputs": [],
   "source": [
    "df_all['date_format'] = df_all['date'].str[0:7]\n",
    "df_all"
   ]
  },
  {
   "cell_type": "markdown",
   "id": "9f73f46d",
   "metadata": {},
   "source": [
    "groupby the date and the age to see how many sail per month"
   ]
  },
  {
   "cell_type": "code",
   "execution_count": null,
   "id": "0ca635cd",
   "metadata": {},
   "outputs": [],
   "source": [
    "df_sail_month = df_all.groupby(by=[\"date_format\",\"age\"]).count().reset_index()\n",
    "df_sail_month"
   ]
  },
  {
   "cell_type": "markdown",
   "id": "537bb7ca",
   "metadata": {},
   "source": [
    "marbark age by sails per month"
   ]
  },
  {
   "cell_type": "code",
   "execution_count": null,
   "id": "e036ca67",
   "metadata": {},
   "outputs": [],
   "source": [
    "source = df_sail_month\n",
    "\n",
    "alt.Chart(source).mark_bar().encode(\n",
    "    alt.X(\"age\", bin=alt.Bin(maxbins=20), title = \"age\"),\n",
    "    alt.Y('total_achats', title = \"sails per month\"),\n",
    ")"
   ]
  },
  {
   "cell_type": "markdown",
   "id": "0ade8486",
   "metadata": {},
   "source": [
    "we can see that the clients that buy the most per month are the 40-45 years old"
   ]
  },
  {
   "cell_type": "markdown",
   "id": "9baa3a0b",
   "metadata": {},
   "source": [
    "markbar sex by categ to visualise the correlation between the gender and the category of the purchase"
   ]
  },
  {
   "cell_type": "markdown",
   "id": "c50c2323",
   "metadata": {},
   "source": [
    "changing category format from 0.1.2 to 1.2.3 because altair can't represent the 0"
   ]
  },
  {
   "cell_type": "code",
   "execution_count": null,
   "id": "eaaaca6f",
   "metadata": {},
   "outputs": [],
   "source": [
    "def categ(x):\n",
    "    x = x+1\n",
    "    return(x)\n",
    "df_all['categ'] = df_all[\"categ\"].apply(categ)\n",
    "df_all"
   ]
  },
  {
   "cell_type": "code",
   "execution_count": null,
   "id": "f6c63f52",
   "metadata": {},
   "outputs": [],
   "source": [
    "alt.data_transformers.disable_max_rows()\n",
    "source = df_all\n",
    "\n",
    " alt.Chart(source).mark_bar().encode(\n",
    "     x='sum(categ)',\n",
    "     y='sex',\n",
    "     color='categ',\n",
    "     order=alt.Order(\n",
    "       'categ',\n",
    "       sort='ascending'\n",
    "     )\n",
    " )"
   ]
  },
  {
   "cell_type": "markdown",
   "id": "4df299f3",
   "metadata": {},
   "source": [
    "groupby age and category the correlation between those two"
   ]
  },
  {
   "cell_type": "code",
   "execution_count": null,
   "id": "1714aeff",
   "metadata": {},
   "outputs": [],
   "source": [
    "source = df_all\n",
    "\n",
    " alt.Chart(source).mark_bar().encode(\n",
    "     alt.X(\"sum(categ)\", title = \"category\"),\n",
    "     alt.Y('age', bin=alt.Bin(maxbins=10), title = \"age\"),\n",
    "     color='categ',\n",
    "     order=alt.Order(\n",
    "       # Sort the segments of the bars by this field\n",
    "       'categ',\n",
    "       sort='ascending'\n",
    "     )\n",
    ")"
   ]
  },
  {
   "cell_type": "markdown",
   "id": "32f7f740",
   "metadata": {},
   "source": [
    "with this graph, we can  see that the age of the client got a big influence of the category he buy.\n",
    "The 20-30 buy the most product in the category 2 and 3\n",
    "the 30-60 buy the most product in the category 1"
   ]
  },
  {
   "cell_type": "code",
   "execution_count": null,
   "id": "7186d3db",
   "metadata": {},
   "outputs": [],
   "source": [
    "df_panier = df_all.groupby([\"session_id\",\"age\"])['id_prod'].count().reset_index(name='id_prod')\n",
    "df_panier = df_panier.groupby(\"age\")['id_prod'].mean().reset_index(name='id_prod')\n",
    "df_panier"
   ]
  },
  {
   "cell_type": "code",
   "execution_count": null,
   "id": "3345a7cf",
   "metadata": {},
   "outputs": [],
   "source": []
  },
  {
   "cell_type": "code",
   "execution_count": null,
   "id": "210ccec7",
   "metadata": {},
   "outputs": [],
   "source": []
  }
 ],
 "metadata": {
  "kernelspec": {
   "display_name": "Python 3 (ipykernel)",
   "language": "python",
   "name": "python3"
  },
  "language_info": {
   "codemirror_mode": {
    "name": "ipython",
    "version": 3
   },
   "file_extension": ".py",
   "mimetype": "text/x-python",
   "name": "python",
   "nbconvert_exporter": "python",
   "pygments_lexer": "ipython3",
   "version": "3.9.12"
  }
 },
 "nbformat": 4,
 "nbformat_minor": 5
}
